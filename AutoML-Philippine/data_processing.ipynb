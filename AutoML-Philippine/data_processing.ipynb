{
 "cells": [
  {
   "cell_type": "code",
   "execution_count": 1,
   "metadata": {},
   "outputs": [],
   "source": [
    "import pandas as pd"
   ]
  },
  {
   "cell_type": "code",
   "execution_count": 2,
   "metadata": {},
   "outputs": [],
   "source": [
    "import os \n",
    "work_path = os.getcwd() \n",
    "raw_path = work_path + \"\\\\raw\"\n",
    "processed_path = work_path + \"\\\\processed\""
   ]
  },
  {
   "cell_type": "code",
   "execution_count": 5,
   "metadata": {},
   "outputs": [
    {
     "data": {
      "text/html": [
       "<div>\n",
       "<style scoped>\n",
       "    .dataframe tbody tr th:only-of-type {\n",
       "        vertical-align: middle;\n",
       "    }\n",
       "\n",
       "    .dataframe tbody tr th {\n",
       "        vertical-align: top;\n",
       "    }\n",
       "\n",
       "    .dataframe thead th {\n",
       "        text-align: right;\n",
       "    }\n",
       "</style>\n",
       "<table border=\"1\" class=\"dataframe\">\n",
       "  <thead>\n",
       "    <tr style=\"text-align: right;\">\n",
       "      <th></th>\n",
       "      <th>0</th>\n",
       "      <th>1</th>\n",
       "      <th>2</th>\n",
       "      <th>3</th>\n",
       "      <th>4</th>\n",
       "      <th>5</th>\n",
       "      <th>6</th>\n",
       "      <th>7</th>\n",
       "      <th>8</th>\n",
       "      <th>9</th>\n",
       "      <th>...</th>\n",
       "      <th>299</th>\n",
       "      <th>300</th>\n",
       "      <th>301</th>\n",
       "      <th>302</th>\n",
       "      <th>303</th>\n",
       "      <th>304</th>\n",
       "      <th>305</th>\n",
       "      <th>306</th>\n",
       "      <th>307</th>\n",
       "      <th>308</th>\n",
       "    </tr>\n",
       "  </thead>\n",
       "  <tbody>\n",
       "    <tr>\n",
       "      <th>0</th>\n",
       "      <td>1.43676</td>\n",
       "      <td>0.000353</td>\n",
       "      <td>1972.84</td>\n",
       "      <td>0.007600</td>\n",
       "      <td>-0.015531</td>\n",
       "      <td>0.780376</td>\n",
       "      <td>103461</td>\n",
       "      <td>0.024912</td>\n",
       "      <td>-0.2213</td>\n",
       "      <td>47</td>\n",
       "      <td>...</td>\n",
       "      <td>0.865036</td>\n",
       "      <td>0.359862</td>\n",
       "      <td>0.003133</td>\n",
       "      <td>2.76052</td>\n",
       "      <td>750.11</td>\n",
       "      <td>-0.008810</td>\n",
       "      <td>0.009179</td>\n",
       "      <td>42.6805</td>\n",
       "      <td>252</td>\n",
       "      <td>NaN</td>\n",
       "    </tr>\n",
       "    <tr>\n",
       "      <th>1</th>\n",
       "      <td>2.70690</td>\n",
       "      <td>0.000678</td>\n",
       "      <td>3955.21</td>\n",
       "      <td>-0.009876</td>\n",
       "      <td>-0.003330</td>\n",
       "      <td>0.733401</td>\n",
       "      <td>150978</td>\n",
       "      <td>0.028482</td>\n",
       "      <td>0.2259</td>\n",
       "      <td>55</td>\n",
       "      <td>...</td>\n",
       "      <td>0.703948</td>\n",
       "      <td>0.610000</td>\n",
       "      <td>-0.006252</td>\n",
       "      <td>4.18539</td>\n",
       "      <td>1200.69</td>\n",
       "      <td>0.049434</td>\n",
       "      <td>-0.005465</td>\n",
       "      <td>41.6983</td>\n",
       "      <td>251</td>\n",
       "      <td>NaN</td>\n",
       "    </tr>\n",
       "    <tr>\n",
       "      <th>2</th>\n",
       "      <td>0.46472</td>\n",
       "      <td>0.000715</td>\n",
       "      <td>1453.81</td>\n",
       "      <td>0.002587</td>\n",
       "      <td>-0.005504</td>\n",
       "      <td>0.771300</td>\n",
       "      <td>88342</td>\n",
       "      <td>0.031772</td>\n",
       "      <td>0.0624</td>\n",
       "      <td>0</td>\n",
       "      <td>...</td>\n",
       "      <td>0.806948</td>\n",
       "      <td>0.112245</td>\n",
       "      <td>-0.010088</td>\n",
       "      <td>1.31197</td>\n",
       "      <td>3876.00</td>\n",
       "      <td>0.006898</td>\n",
       "      <td>0.022098</td>\n",
       "      <td>55.1792</td>\n",
       "      <td>113</td>\n",
       "      <td>NaN</td>\n",
       "    </tr>\n",
       "    <tr>\n",
       "      <th>3</th>\n",
       "      <td>3.06980</td>\n",
       "      <td>0.000357</td>\n",
       "      <td>2036.55</td>\n",
       "      <td>0.005065</td>\n",
       "      <td>0.009438</td>\n",
       "      <td>0.873578</td>\n",
       "      <td>123739</td>\n",
       "      <td>0.009533</td>\n",
       "      <td>-0.2277</td>\n",
       "      <td>38</td>\n",
       "      <td>...</td>\n",
       "      <td>0.874592</td>\n",
       "      <td>0.348765</td>\n",
       "      <td>0.007156</td>\n",
       "      <td>2.19352</td>\n",
       "      <td>1013.80</td>\n",
       "      <td>0.010855</td>\n",
       "      <td>-0.002765</td>\n",
       "      <td>39.9233</td>\n",
       "      <td>242</td>\n",
       "      <td>NaN</td>\n",
       "    </tr>\n",
       "    <tr>\n",
       "      <th>4</th>\n",
       "      <td>1.65000</td>\n",
       "      <td>0.000545</td>\n",
       "      <td>2325.00</td>\n",
       "      <td>0.006807</td>\n",
       "      <td>-0.003393</td>\n",
       "      <td>0.803415</td>\n",
       "      <td>103812</td>\n",
       "      <td>0.014284</td>\n",
       "      <td>0.0149</td>\n",
       "      <td>14</td>\n",
       "      <td>...</td>\n",
       "      <td>0.742672</td>\n",
       "      <td>0.284024</td>\n",
       "      <td>-0.003029</td>\n",
       "      <td>2.93776</td>\n",
       "      <td>1336.37</td>\n",
       "      <td>0.015256</td>\n",
       "      <td>-0.010514</td>\n",
       "      <td>39.5254</td>\n",
       "      <td>213</td>\n",
       "      <td>NaN</td>\n",
       "    </tr>\n",
       "  </tbody>\n",
       "</table>\n",
       "<p>5 rows × 309 columns</p>\n",
       "</div>"
      ],
      "text/plain": [
       "       0         1        2         3         4         5       6         7    \\\n",
       "0  1.43676  0.000353  1972.84  0.007600 -0.015531  0.780376  103461  0.024912   \n",
       "1  2.70690  0.000678  3955.21 -0.009876 -0.003330  0.733401  150978  0.028482   \n",
       "2  0.46472  0.000715  1453.81  0.002587 -0.005504  0.771300   88342  0.031772   \n",
       "3  3.06980  0.000357  2036.55  0.005065  0.009438  0.873578  123739  0.009533   \n",
       "4  1.65000  0.000545  2325.00  0.006807 -0.003393  0.803415  103812  0.014284   \n",
       "\n",
       "      8    9    ...       299       300       301      302      303       304  \\\n",
       "0 -0.2213   47  ...  0.865036  0.359862  0.003133  2.76052   750.11 -0.008810   \n",
       "1  0.2259   55  ...  0.703948  0.610000 -0.006252  4.18539  1200.69  0.049434   \n",
       "2  0.0624    0  ...  0.806948  0.112245 -0.010088  1.31197  3876.00  0.006898   \n",
       "3 -0.2277   38  ...  0.874592  0.348765  0.007156  2.19352  1013.80  0.010855   \n",
       "4  0.0149   14  ...  0.742672  0.284024 -0.003029  2.93776  1336.37  0.015256   \n",
       "\n",
       "        305      306  307  308  \n",
       "0  0.009179  42.6805  252  NaN  \n",
       "1 -0.005465  41.6983  251  NaN  \n",
       "2  0.022098  55.1792  113  NaN  \n",
       "3 -0.002765  39.9233  242  NaN  \n",
       "4 -0.010514  39.5254  213  NaN  \n",
       "\n",
       "[5 rows x 309 columns]"
      ]
     },
     "execution_count": 5,
     "metadata": {},
     "output_type": "execute_result"
    }
   ],
   "source": [
    "df_train = pd.read_csv(raw_path+\"\\\\philippine\\\\philippine_train.data\", header=None, sep=\" \")\n",
    "df_train.head()"
   ]
  },
  {
   "cell_type": "code",
   "execution_count": 6,
   "metadata": {},
   "outputs": [
    {
     "data": {
      "text/plain": [
       "(5832, 309)"
      ]
     },
     "execution_count": 6,
     "metadata": {},
     "output_type": "execute_result"
    }
   ],
   "source": [
    "df_train.shape"
   ]
  },
  {
   "cell_type": "code",
   "execution_count": 9,
   "metadata": {},
   "outputs": [
    {
     "data": {
      "text/html": [
       "<div>\n",
       "<style scoped>\n",
       "    .dataframe tbody tr th:only-of-type {\n",
       "        vertical-align: middle;\n",
       "    }\n",
       "\n",
       "    .dataframe tbody tr th {\n",
       "        vertical-align: top;\n",
       "    }\n",
       "\n",
       "    .dataframe thead th {\n",
       "        text-align: right;\n",
       "    }\n",
       "</style>\n",
       "<table border=\"1\" class=\"dataframe\">\n",
       "  <thead>\n",
       "    <tr style=\"text-align: right;\">\n",
       "      <th></th>\n",
       "      <th>TAG</th>\n",
       "    </tr>\n",
       "  </thead>\n",
       "  <tbody>\n",
       "    <tr>\n",
       "      <th>0</th>\n",
       "      <td>0</td>\n",
       "    </tr>\n",
       "    <tr>\n",
       "      <th>1</th>\n",
       "      <td>1</td>\n",
       "    </tr>\n",
       "    <tr>\n",
       "      <th>2</th>\n",
       "      <td>1</td>\n",
       "    </tr>\n",
       "    <tr>\n",
       "      <th>3</th>\n",
       "      <td>0</td>\n",
       "    </tr>\n",
       "    <tr>\n",
       "      <th>4</th>\n",
       "      <td>1</td>\n",
       "    </tr>\n",
       "    <tr>\n",
       "      <th>...</th>\n",
       "      <td>...</td>\n",
       "    </tr>\n",
       "    <tr>\n",
       "      <th>5827</th>\n",
       "      <td>0</td>\n",
       "    </tr>\n",
       "    <tr>\n",
       "      <th>5828</th>\n",
       "      <td>1</td>\n",
       "    </tr>\n",
       "    <tr>\n",
       "      <th>5829</th>\n",
       "      <td>0</td>\n",
       "    </tr>\n",
       "    <tr>\n",
       "      <th>5830</th>\n",
       "      <td>1</td>\n",
       "    </tr>\n",
       "    <tr>\n",
       "      <th>5831</th>\n",
       "      <td>0</td>\n",
       "    </tr>\n",
       "  </tbody>\n",
       "</table>\n",
       "<p>5832 rows × 1 columns</p>\n",
       "</div>"
      ],
      "text/plain": [
       "      TAG\n",
       "0       0\n",
       "1       1\n",
       "2       1\n",
       "3       0\n",
       "4       1\n",
       "...   ...\n",
       "5827    0\n",
       "5828    1\n",
       "5829    0\n",
       "5830    1\n",
       "5831    0\n",
       "\n",
       "[5832 rows x 1 columns]"
      ]
     },
     "execution_count": 9,
     "metadata": {},
     "output_type": "execute_result"
    }
   ],
   "source": [
    "df_tag = pd.read_csv(\n",
    "    raw_path+\"\\\\philippine\\\\philippine_train.solution\", header=None, sep=\" \", names=['TAG'])\n",
    "df_tag"
   ]
  },
  {
   "cell_type": "code",
   "execution_count": 10,
   "metadata": {},
   "outputs": [
    {
     "data": {
      "text/plain": [
       "Series([], Name: 308, dtype: int64)"
      ]
     },
     "execution_count": 10,
     "metadata": {},
     "output_type": "execute_result"
    }
   ],
   "source": [
    "df_train[308].value_counts()"
   ]
  },
  {
   "cell_type": "code",
   "execution_count": 11,
   "metadata": {},
   "outputs": [
    {
     "data": {
      "text/plain": [
       "(5832, 309)"
      ]
     },
     "execution_count": 11,
     "metadata": {},
     "output_type": "execute_result"
    }
   ],
   "source": [
    "df_train['TAG'] = df_tag['TAG']\n",
    "df_train.drop(208, axis=1, inplace=True)\n",
    "df_train.shape"
   ]
  },
  {
   "cell_type": "code",
   "execution_count": 12,
   "metadata": {},
   "outputs": [
    {
     "data": {
      "text/plain": [
       "1    2916\n",
       "0    2916\n",
       "Name: TAG, dtype: int64"
      ]
     },
     "execution_count": 12,
     "metadata": {},
     "output_type": "execute_result"
    }
   ],
   "source": [
    "df_train['TAG'].value_counts()"
   ]
  },
  {
   "cell_type": "code",
   "execution_count": 13,
   "metadata": {},
   "outputs": [],
   "source": [
    "df_train.to_csv(processed_path+\"\\\\phillipine.csv\", header=True, index=None)"
   ]
  },
  {
   "cell_type": "code",
   "execution_count": null,
   "metadata": {},
   "outputs": [],
   "source": []
  }
 ],
 "metadata": {
  "interpreter": {
   "hash": "a8f61be024eba58adef938c9aa1e29e02cb3dece83a5348b1a2dafd16a070453"
  },
  "kernelspec": {
   "display_name": "Python 3.7.6 ('base')",
   "language": "python",
   "name": "python3"
  },
  "language_info": {
   "codemirror_mode": {
    "name": "ipython",
    "version": 3
   },
   "file_extension": ".py",
   "mimetype": "text/x-python",
   "name": "python",
   "nbconvert_exporter": "python",
   "pygments_lexer": "ipython3",
   "version": "3.7.6"
  },
  "orig_nbformat": 4
 },
 "nbformat": 4,
 "nbformat_minor": 2
}
